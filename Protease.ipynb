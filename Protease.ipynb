{
  "nbformat": 4,
  "nbformat_minor": 0,
  "metadata": {
    "colab": {
      "name": "Protease.ipynb",
      "provenance": [],
      "include_colab_link": true
    },
    "kernelspec": {
      "name": "python3",
      "display_name": "Python 3"
    },
    "language_info": {
      "name": "python"
    }
  },
  "cells": [
    {
      "cell_type": "markdown",
      "metadata": {
        "id": "view-in-github",
        "colab_type": "text"
      },
      "source": [
        "<a href=\"https://colab.research.google.com/github/Agurk2/covidprotease/blob/main/Protease.ipynb\" target=\"_parent\"><img src=\"https://colab.research.google.com/assets/colab-badge.svg\" alt=\"Open In Colab\"/></a>"
      ]
    },
    {
      "cell_type": "code",
      "execution_count": null,
      "metadata": {
        "colab": {
          "base_uri": "https://localhost:8080/"
        },
        "id": "LHC5Yg6eUcD9",
        "outputId": "1d7e2e25-a1a0-496f-deed-d55517f896c8"
      },
      "outputs": [
        {
          "output_type": "stream",
          "name": "stdout",
          "text": [
            "Collecting qiskit\n",
            "  Downloading qiskit-0.34.1.tar.gz (13 kB)\n",
            "Collecting qiskit-terra==0.19.1\n",
            "  Downloading qiskit_terra-0.19.1-cp37-cp37m-manylinux2010_x86_64.whl (6.4 MB)\n",
            "\u001b[K     |████████████████████████████████| 6.4 MB 5.9 MB/s \n",
            "\u001b[?25hCollecting qiskit-aer==0.10.2\n",
            "  Downloading qiskit_aer-0.10.2-cp37-cp37m-manylinux_2_12_x86_64.manylinux2010_x86_64.whl (18.0 MB)\n",
            "\u001b[K     |████████████████████████████████| 18.0 MB 603 kB/s \n",
            "\u001b[?25hCollecting qiskit-ibmq-provider==0.18.3\n",
            "  Downloading qiskit_ibmq_provider-0.18.3-py3-none-any.whl (238 kB)\n",
            "\u001b[K     |████████████████████████████████| 238 kB 62.0 MB/s \n",
            "\u001b[?25hCollecting qiskit-ignis==0.7.0\n",
            "  Downloading qiskit_ignis-0.7.0-py3-none-any.whl (200 kB)\n",
            "\u001b[K     |████████████████████████████████| 200 kB 86.4 MB/s \n",
            "\u001b[?25hRequirement already satisfied: numpy>=1.16.3 in /usr/local/lib/python3.7/dist-packages (from qiskit-aer==0.10.2->qiskit) (1.19.5)\n",
            "Requirement already satisfied: scipy>=1.0 in /usr/local/lib/python3.7/dist-packages (from qiskit-aer==0.10.2->qiskit) (1.4.1)\n",
            "Requirement already satisfied: python-dateutil>=2.8.0 in /usr/local/lib/python3.7/dist-packages (from qiskit-ibmq-provider==0.18.3->qiskit) (2.8.2)\n",
            "Requirement already satisfied: requests>=2.19 in /usr/local/lib/python3.7/dist-packages (from qiskit-ibmq-provider==0.18.3->qiskit) (2.23.0)\n",
            "Collecting requests-ntlm>=1.1.0\n",
            "  Downloading requests_ntlm-1.1.0-py2.py3-none-any.whl (5.7 kB)\n",
            "Collecting websocket-client>=1.0.1\n",
            "  Downloading websocket_client-1.2.3-py3-none-any.whl (53 kB)\n",
            "\u001b[K     |████████████████████████████████| 53 kB 2.3 MB/s \n",
            "\u001b[?25hRequirement already satisfied: urllib3>=1.21.1 in /usr/local/lib/python3.7/dist-packages (from qiskit-ibmq-provider==0.18.3->qiskit) (1.24.3)\n",
            "Collecting retworkx>=0.8.0\n",
            "  Downloading retworkx-0.11.0-cp37-cp37m-manylinux_2_5_x86_64.manylinux1_x86_64.manylinux_2_12_x86_64.manylinux2010_x86_64.whl (1.6 MB)\n",
            "\u001b[K     |████████████████████████████████| 1.6 MB 70.7 MB/s \n",
            "\u001b[?25hRequirement already satisfied: setuptools>=40.1.0 in /usr/local/lib/python3.7/dist-packages (from qiskit-ignis==0.7.0->qiskit) (57.4.0)\n",
            "Collecting ply>=3.10\n",
            "  Downloading ply-3.11-py2.py3-none-any.whl (49 kB)\n",
            "\u001b[K     |████████████████████████████████| 49 kB 7.7 MB/s \n",
            "\u001b[?25hRequirement already satisfied: psutil>=5 in /usr/local/lib/python3.7/dist-packages (from qiskit-terra==0.19.1->qiskit) (5.4.8)\n",
            "Requirement already satisfied: dill>=0.3 in /usr/local/lib/python3.7/dist-packages (from qiskit-terra==0.19.1->qiskit) (0.3.4)\n",
            "Collecting stevedore>=3.0.0\n",
            "  Downloading stevedore-3.5.0-py3-none-any.whl (49 kB)\n",
            "\u001b[K     |████████████████████████████████| 49 kB 7.3 MB/s \n",
            "\u001b[?25hCollecting symengine>=0.8\n",
            "  Downloading symengine-0.8.1-cp37-cp37m-manylinux2010_x86_64.whl (38.2 MB)\n",
            "\u001b[K     |████████████████████████████████| 38.2 MB 1.2 MB/s \n",
            "\u001b[?25hRequirement already satisfied: sympy>=1.3 in /usr/local/lib/python3.7/dist-packages (from qiskit-terra==0.19.1->qiskit) (1.7.1)\n",
            "Collecting scipy>=1.0\n",
            "  Downloading scipy-1.7.3-cp37-cp37m-manylinux_2_12_x86_64.manylinux2010_x86_64.whl (38.1 MB)\n",
            "\u001b[K     |████████████████████████████████| 38.1 MB 1.3 MB/s \n",
            "\u001b[?25hCollecting tweedledum<2.0,>=1.1\n",
            "  Downloading tweedledum-1.1.1-cp37-cp37m-manylinux_2_12_x86_64.manylinux2010_x86_64.whl (943 kB)\n",
            "\u001b[K     |████████████████████████████████| 943 kB 39.8 MB/s \n",
            "\u001b[?25hCollecting python-constraint>=1.4\n",
            "  Downloading python-constraint-1.4.0.tar.bz2 (18 kB)\n",
            "Requirement already satisfied: six>=1.5 in /usr/local/lib/python3.7/dist-packages (from python-dateutil>=2.8.0->qiskit-ibmq-provider==0.18.3->qiskit) (1.15.0)\n",
            "Requirement already satisfied: chardet<4,>=3.0.2 in /usr/local/lib/python3.7/dist-packages (from requests>=2.19->qiskit-ibmq-provider==0.18.3->qiskit) (3.0.4)\n",
            "Requirement already satisfied: idna<3,>=2.5 in /usr/local/lib/python3.7/dist-packages (from requests>=2.19->qiskit-ibmq-provider==0.18.3->qiskit) (2.10)\n",
            "Requirement already satisfied: certifi>=2017.4.17 in /usr/local/lib/python3.7/dist-packages (from requests>=2.19->qiskit-ibmq-provider==0.18.3->qiskit) (2021.10.8)\n",
            "Collecting cryptography>=1.3\n",
            "  Downloading cryptography-36.0.1-cp36-abi3-manylinux_2_24_x86_64.whl (3.6 MB)\n",
            "\u001b[K     |████████████████████████████████| 3.6 MB 47.0 MB/s \n",
            "\u001b[?25hCollecting ntlm-auth>=1.0.2\n",
            "  Downloading ntlm_auth-1.5.0-py2.py3-none-any.whl (29 kB)\n",
            "Requirement already satisfied: cffi>=1.12 in /usr/local/lib/python3.7/dist-packages (from cryptography>=1.3->requests-ntlm>=1.1.0->qiskit-ibmq-provider==0.18.3->qiskit) (1.15.0)\n",
            "Requirement already satisfied: pycparser in /usr/local/lib/python3.7/dist-packages (from cffi>=1.12->cryptography>=1.3->requests-ntlm>=1.1.0->qiskit-ibmq-provider==0.18.3->qiskit) (2.21)\n",
            "Requirement already satisfied: importlib-metadata>=1.7.0 in /usr/local/lib/python3.7/dist-packages (from stevedore>=3.0.0->qiskit-terra==0.19.1->qiskit) (4.10.1)\n",
            "Collecting pbr!=2.1.0,>=2.0.0\n",
            "  Downloading pbr-5.8.0-py2.py3-none-any.whl (112 kB)\n",
            "\u001b[K     |████████████████████████████████| 112 kB 71.2 MB/s \n",
            "\u001b[?25hRequirement already satisfied: zipp>=0.5 in /usr/local/lib/python3.7/dist-packages (from importlib-metadata>=1.7.0->stevedore>=3.0.0->qiskit-terra==0.19.1->qiskit) (3.7.0)\n",
            "Requirement already satisfied: typing-extensions>=3.6.4 in /usr/local/lib/python3.7/dist-packages (from importlib-metadata>=1.7.0->stevedore>=3.0.0->qiskit-terra==0.19.1->qiskit) (3.10.0.2)\n",
            "Requirement already satisfied: mpmath>=0.19 in /usr/local/lib/python3.7/dist-packages (from sympy>=1.3->qiskit-terra==0.19.1->qiskit) (1.2.1)\n",
            "Building wheels for collected packages: qiskit, python-constraint\n",
            "  Building wheel for qiskit (setup.py) ... \u001b[?25l\u001b[?25hdone\n",
            "  Created wheel for qiskit: filename=qiskit-0.34.1-py3-none-any.whl size=11771 sha256=e4d436f85e226e34ec0718d46202966338bb41d9a786280c581fb43810f77c4e\n",
            "  Stored in directory: /root/.cache/pip/wheels/79/b1/3f/8cdfd5543a84705e4bd16e081f2362b9b3bfd9898d2e2d4150\n",
            "  Building wheel for python-constraint (setup.py) ... \u001b[?25l\u001b[?25hdone\n",
            "  Created wheel for python-constraint: filename=python_constraint-1.4.0-py2.py3-none-any.whl size=24081 sha256=e29541239b4bafacb0494137409d208b633071ff8dffb5097b103d71e1f4134c\n",
            "  Stored in directory: /root/.cache/pip/wheels/07/27/db/1222c80eb1e431f3d2199c12569cb1cac60f562a451fe30479\n",
            "Successfully built qiskit python-constraint\n",
            "Installing collected packages: pbr, tweedledum, symengine, stevedore, scipy, retworkx, python-constraint, ply, ntlm-auth, cryptography, websocket-client, requests-ntlm, qiskit-terra, qiskit-ignis, qiskit-ibmq-provider, qiskit-aer, qiskit\n",
            "  Attempting uninstall: scipy\n",
            "    Found existing installation: scipy 1.4.1\n",
            "    Uninstalling scipy-1.4.1:\n",
            "      Successfully uninstalled scipy-1.4.1\n",
            "\u001b[31mERROR: pip's dependency resolver does not currently take into account all the packages that are installed. This behaviour is the source of the following dependency conflicts.\n",
            "albumentations 0.1.12 requires imgaug<0.2.7,>=0.2.5, but you have imgaug 0.2.9 which is incompatible.\u001b[0m\n",
            "Successfully installed cryptography-36.0.1 ntlm-auth-1.5.0 pbr-5.8.0 ply-3.11 python-constraint-1.4.0 qiskit-0.34.1 qiskit-aer-0.10.2 qiskit-ibmq-provider-0.18.3 qiskit-ignis-0.7.0 qiskit-terra-0.19.1 requests-ntlm-1.1.0 retworkx-0.11.0 scipy-1.7.3 stevedore-3.5.0 symengine-0.8.1 tweedledum-1.1.1 websocket-client-1.2.3\n"
          ]
        }
      ],
      "source": [
        "pip install qiskit"
      ]
    },
    {
      "cell_type": "code",
      "source": [
        "pip install quantuminspire"
      ],
      "metadata": {
        "colab": {
          "base_uri": "https://localhost:8080/"
        },
        "id": "9W72Dk6oWDdP",
        "outputId": "0e3b67fe-312a-424b-9cd4-cf066bd0e6c1"
      },
      "execution_count": null,
      "outputs": [
        {
          "output_type": "stream",
          "name": "stdout",
          "text": [
            "Collecting quantuminspire\n",
            "  Downloading quantuminspire-1.7.0.tar.gz (48 kB)\n",
            "\u001b[K     |████████████████████████████████| 48 kB 2.7 MB/s \n",
            "\u001b[?25hCollecting coverage>=4.5.1\n",
            "  Downloading coverage-6.3-cp37-cp37m-manylinux_2_5_x86_64.manylinux1_x86_64.manylinux_2_17_x86_64.manylinux2014_x86_64.whl (207 kB)\n",
            "\u001b[K     |████████████████████████████████| 207 kB 9.5 MB/s \n",
            "\u001b[?25hRequirement already satisfied: matplotlib>=2.1 in /usr/local/lib/python3.7/dist-packages (from quantuminspire) (3.2.2)\n",
            "Collecting pylatexenc\n",
            "  Downloading pylatexenc-2.10.tar.gz (162 kB)\n",
            "\u001b[K     |████████████████████████████████| 162 kB 64.1 MB/s \n",
            "\u001b[?25hCollecting coreapi>=2.3.3\n",
            "  Downloading coreapi-2.3.3-py2.py3-none-any.whl (25 kB)\n",
            "Requirement already satisfied: numpy>=1.17 in /usr/local/lib/python3.7/dist-packages (from quantuminspire) (1.19.5)\n",
            "Requirement already satisfied: jupyter in /usr/local/lib/python3.7/dist-packages (from quantuminspire) (1.0.0)\n",
            "Collecting nbimporter\n",
            "  Downloading nbimporter-0.3.4-py3-none-any.whl (4.9 kB)\n",
            "Requirement already satisfied: sklearn in /usr/local/lib/python3.7/dist-packages (from quantuminspire) (0.0)\n",
            "Requirement already satisfied: uritemplate in /usr/local/lib/python3.7/dist-packages (from coreapi>=2.3.3->quantuminspire) (3.0.1)\n",
            "Collecting itypes\n",
            "  Downloading itypes-1.2.0-py2.py3-none-any.whl (4.8 kB)\n",
            "Collecting coreschema\n",
            "  Downloading coreschema-0.0.4.tar.gz (10 kB)\n",
            "Requirement already satisfied: requests in /usr/local/lib/python3.7/dist-packages (from coreapi>=2.3.3->quantuminspire) (2.23.0)\n",
            "Requirement already satisfied: pyparsing!=2.0.4,!=2.1.2,!=2.1.6,>=2.0.1 in /usr/local/lib/python3.7/dist-packages (from matplotlib>=2.1->quantuminspire) (3.0.7)\n",
            "Requirement already satisfied: cycler>=0.10 in /usr/local/lib/python3.7/dist-packages (from matplotlib>=2.1->quantuminspire) (0.11.0)\n",
            "Requirement already satisfied: kiwisolver>=1.0.1 in /usr/local/lib/python3.7/dist-packages (from matplotlib>=2.1->quantuminspire) (1.3.2)\n",
            "Requirement already satisfied: python-dateutil>=2.1 in /usr/local/lib/python3.7/dist-packages (from matplotlib>=2.1->quantuminspire) (2.8.2)\n",
            "Requirement already satisfied: six>=1.5 in /usr/local/lib/python3.7/dist-packages (from python-dateutil>=2.1->matplotlib>=2.1->quantuminspire) (1.15.0)\n",
            "Requirement already satisfied: jinja2 in /usr/local/lib/python3.7/dist-packages (from coreschema->coreapi>=2.3.3->quantuminspire) (2.11.3)\n",
            "Requirement already satisfied: MarkupSafe>=0.23 in /usr/local/lib/python3.7/dist-packages (from jinja2->coreschema->coreapi>=2.3.3->quantuminspire) (2.0.1)\n",
            "Requirement already satisfied: jupyter-console in /usr/local/lib/python3.7/dist-packages (from jupyter->quantuminspire) (5.2.0)\n",
            "Requirement already satisfied: qtconsole in /usr/local/lib/python3.7/dist-packages (from jupyter->quantuminspire) (5.2.2)\n",
            "Requirement already satisfied: notebook in /usr/local/lib/python3.7/dist-packages (from jupyter->quantuminspire) (5.3.1)\n",
            "Requirement already satisfied: ipywidgets in /usr/local/lib/python3.7/dist-packages (from jupyter->quantuminspire) (7.6.5)\n",
            "Requirement already satisfied: nbconvert in /usr/local/lib/python3.7/dist-packages (from jupyter->quantuminspire) (5.6.1)\n",
            "Requirement already satisfied: ipykernel in /usr/local/lib/python3.7/dist-packages (from jupyter->quantuminspire) (4.10.1)\n",
            "Requirement already satisfied: jupyter-client in /usr/local/lib/python3.7/dist-packages (from ipykernel->jupyter->quantuminspire) (5.3.5)\n",
            "Requirement already satisfied: traitlets>=4.1.0 in /usr/local/lib/python3.7/dist-packages (from ipykernel->jupyter->quantuminspire) (5.1.1)\n",
            "Requirement already satisfied: ipython>=4.0.0 in /usr/local/lib/python3.7/dist-packages (from ipykernel->jupyter->quantuminspire) (5.5.0)\n",
            "Requirement already satisfied: tornado>=4.0 in /usr/local/lib/python3.7/dist-packages (from ipykernel->jupyter->quantuminspire) (5.1.1)\n",
            "Requirement already satisfied: decorator in /usr/local/lib/python3.7/dist-packages (from ipython>=4.0.0->ipykernel->jupyter->quantuminspire) (4.4.2)\n",
            "Requirement already satisfied: pickleshare in /usr/local/lib/python3.7/dist-packages (from ipython>=4.0.0->ipykernel->jupyter->quantuminspire) (0.7.5)\n",
            "Requirement already satisfied: pygments in /usr/local/lib/python3.7/dist-packages (from ipython>=4.0.0->ipykernel->jupyter->quantuminspire) (2.6.1)\n",
            "Requirement already satisfied: setuptools>=18.5 in /usr/local/lib/python3.7/dist-packages (from ipython>=4.0.0->ipykernel->jupyter->quantuminspire) (57.4.0)\n",
            "Requirement already satisfied: prompt-toolkit<2.0.0,>=1.0.4 in /usr/local/lib/python3.7/dist-packages (from ipython>=4.0.0->ipykernel->jupyter->quantuminspire) (1.0.18)\n",
            "Requirement already satisfied: pexpect in /usr/local/lib/python3.7/dist-packages (from ipython>=4.0.0->ipykernel->jupyter->quantuminspire) (4.8.0)\n",
            "Requirement already satisfied: simplegeneric>0.8 in /usr/local/lib/python3.7/dist-packages (from ipython>=4.0.0->ipykernel->jupyter->quantuminspire) (0.8.1)\n",
            "Requirement already satisfied: wcwidth in /usr/local/lib/python3.7/dist-packages (from prompt-toolkit<2.0.0,>=1.0.4->ipython>=4.0.0->ipykernel->jupyter->quantuminspire) (0.2.5)\n",
            "Requirement already satisfied: ipython-genutils~=0.2.0 in /usr/local/lib/python3.7/dist-packages (from ipywidgets->jupyter->quantuminspire) (0.2.0)\n",
            "Requirement already satisfied: jupyterlab-widgets>=1.0.0 in /usr/local/lib/python3.7/dist-packages (from ipywidgets->jupyter->quantuminspire) (1.0.2)\n",
            "Requirement already satisfied: widgetsnbextension~=3.5.0 in /usr/local/lib/python3.7/dist-packages (from ipywidgets->jupyter->quantuminspire) (3.5.2)\n",
            "Requirement already satisfied: nbformat>=4.2.0 in /usr/local/lib/python3.7/dist-packages (from ipywidgets->jupyter->quantuminspire) (5.1.3)\n",
            "Requirement already satisfied: jupyter-core in /usr/local/lib/python3.7/dist-packages (from nbformat>=4.2.0->ipywidgets->jupyter->quantuminspire) (4.9.1)\n",
            "Requirement already satisfied: jsonschema!=2.5.0,>=2.4 in /usr/local/lib/python3.7/dist-packages (from nbformat>=4.2.0->ipywidgets->jupyter->quantuminspire) (4.3.3)\n",
            "Requirement already satisfied: typing-extensions in /usr/local/lib/python3.7/dist-packages (from jsonschema!=2.5.0,>=2.4->nbformat>=4.2.0->ipywidgets->jupyter->quantuminspire) (3.10.0.2)\n",
            "Requirement already satisfied: pyrsistent!=0.17.0,!=0.17.1,!=0.17.2,>=0.14.0 in /usr/local/lib/python3.7/dist-packages (from jsonschema!=2.5.0,>=2.4->nbformat>=4.2.0->ipywidgets->jupyter->quantuminspire) (0.18.1)\n",
            "Requirement already satisfied: attrs>=17.4.0 in /usr/local/lib/python3.7/dist-packages (from jsonschema!=2.5.0,>=2.4->nbformat>=4.2.0->ipywidgets->jupyter->quantuminspire) (21.4.0)\n",
            "Requirement already satisfied: importlib-resources>=1.4.0 in /usr/local/lib/python3.7/dist-packages (from jsonschema!=2.5.0,>=2.4->nbformat>=4.2.0->ipywidgets->jupyter->quantuminspire) (5.4.0)\n",
            "Requirement already satisfied: importlib-metadata in /usr/local/lib/python3.7/dist-packages (from jsonschema!=2.5.0,>=2.4->nbformat>=4.2.0->ipywidgets->jupyter->quantuminspire) (4.10.1)\n",
            "Requirement already satisfied: zipp>=3.1.0 in /usr/local/lib/python3.7/dist-packages (from importlib-resources>=1.4.0->jsonschema!=2.5.0,>=2.4->nbformat>=4.2.0->ipywidgets->jupyter->quantuminspire) (3.7.0)\n",
            "Requirement already satisfied: terminado>=0.8.1 in /usr/local/lib/python3.7/dist-packages (from notebook->jupyter->quantuminspire) (0.12.1)\n",
            "Requirement already satisfied: Send2Trash in /usr/local/lib/python3.7/dist-packages (from notebook->jupyter->quantuminspire) (1.8.0)\n",
            "Requirement already satisfied: pyzmq>=13 in /usr/local/lib/python3.7/dist-packages (from jupyter-client->ipykernel->jupyter->quantuminspire) (22.3.0)\n",
            "Requirement already satisfied: ptyprocess in /usr/local/lib/python3.7/dist-packages (from terminado>=0.8.1->notebook->jupyter->quantuminspire) (0.7.0)\n",
            "Requirement already satisfied: defusedxml in /usr/local/lib/python3.7/dist-packages (from nbconvert->jupyter->quantuminspire) (0.7.1)\n",
            "Requirement already satisfied: entrypoints>=0.2.2 in /usr/local/lib/python3.7/dist-packages (from nbconvert->jupyter->quantuminspire) (0.3)\n",
            "Requirement already satisfied: bleach in /usr/local/lib/python3.7/dist-packages (from nbconvert->jupyter->quantuminspire) (4.1.0)\n",
            "Requirement already satisfied: testpath in /usr/local/lib/python3.7/dist-packages (from nbconvert->jupyter->quantuminspire) (0.5.0)\n",
            "Requirement already satisfied: pandocfilters>=1.4.1 in /usr/local/lib/python3.7/dist-packages (from nbconvert->jupyter->quantuminspire) (1.5.0)\n",
            "Requirement already satisfied: mistune<2,>=0.8.1 in /usr/local/lib/python3.7/dist-packages (from nbconvert->jupyter->quantuminspire) (0.8.4)\n",
            "Requirement already satisfied: packaging in /usr/local/lib/python3.7/dist-packages (from bleach->nbconvert->jupyter->quantuminspire) (21.3)\n",
            "Requirement already satisfied: webencodings in /usr/local/lib/python3.7/dist-packages (from bleach->nbconvert->jupyter->quantuminspire) (0.5.1)\n",
            "Requirement already satisfied: qtpy in /usr/local/lib/python3.7/dist-packages (from qtconsole->jupyter->quantuminspire) (2.0.0)\n",
            "Requirement already satisfied: urllib3!=1.25.0,!=1.25.1,<1.26,>=1.21.1 in /usr/local/lib/python3.7/dist-packages (from requests->coreapi>=2.3.3->quantuminspire) (1.24.3)\n",
            "Requirement already satisfied: certifi>=2017.4.17 in /usr/local/lib/python3.7/dist-packages (from requests->coreapi>=2.3.3->quantuminspire) (2021.10.8)\n",
            "Requirement already satisfied: chardet<4,>=3.0.2 in /usr/local/lib/python3.7/dist-packages (from requests->coreapi>=2.3.3->quantuminspire) (3.0.4)\n",
            "Requirement already satisfied: idna<3,>=2.5 in /usr/local/lib/python3.7/dist-packages (from requests->coreapi>=2.3.3->quantuminspire) (2.10)\n",
            "Requirement already satisfied: scikit-learn in /usr/local/lib/python3.7/dist-packages (from sklearn->quantuminspire) (1.0.2)\n",
            "Requirement already satisfied: scipy>=1.1.0 in /usr/local/lib/python3.7/dist-packages (from scikit-learn->sklearn->quantuminspire) (1.7.3)\n",
            "Requirement already satisfied: threadpoolctl>=2.0.0 in /usr/local/lib/python3.7/dist-packages (from scikit-learn->sklearn->quantuminspire) (3.0.0)\n",
            "Requirement already satisfied: joblib>=0.11 in /usr/local/lib/python3.7/dist-packages (from scikit-learn->sklearn->quantuminspire) (1.1.0)\n",
            "Building wheels for collected packages: quantuminspire, coreschema, pylatexenc\n",
            "  Building wheel for quantuminspire (setup.py) ... \u001b[?25l\u001b[?25hdone\n",
            "  Created wheel for quantuminspire: filename=quantuminspire-1.7.0-py3-none-any.whl size=52132 sha256=ae45bcf62eedbfc71eba7e038d37406980fcdcde0f37d6b5938ec392d9f2d8fa\n",
            "  Stored in directory: /root/.cache/pip/wheels/74/ec/41/80206131a3a29080f7e3ffbe2958761deaf2a2985f180c2af3\n",
            "  Building wheel for coreschema (setup.py) ... \u001b[?25l\u001b[?25hdone\n",
            "  Created wheel for coreschema: filename=coreschema-0.0.4-py3-none-any.whl size=15029 sha256=d939da556b4b785efb2286c364252beab0680ebe66e4a58ecd3a61a3445a6604\n",
            "  Stored in directory: /root/.cache/pip/wheels/29/28/77/73539fe0ce161da7a571cd8278a9296adbda257406bb6f100d\n",
            "  Building wheel for pylatexenc (setup.py) ... \u001b[?25l\u001b[?25hdone\n",
            "  Created wheel for pylatexenc: filename=pylatexenc-2.10-py3-none-any.whl size=136835 sha256=3048e4907a0e80efa1c4edfcbdceb26d4420cacca5ac5ad0ec3d08ec1171e241\n",
            "  Stored in directory: /root/.cache/pip/wheels/f1/8a/f5/33ee79d4473eb201b519fa40f989b842e373237395a3421f52\n",
            "Successfully built quantuminspire coreschema pylatexenc\n",
            "Installing collected packages: itypes, coreschema, pylatexenc, nbimporter, coverage, coreapi, quantuminspire\n",
            "  Attempting uninstall: coverage\n",
            "    Found existing installation: coverage 3.7.1\n",
            "    Uninstalling coverage-3.7.1:\n",
            "      Successfully uninstalled coverage-3.7.1\n",
            "\u001b[31mERROR: pip's dependency resolver does not currently take into account all the packages that are installed. This behaviour is the source of the following dependency conflicts.\n",
            "datascience 0.10.6 requires coverage==3.7.1, but you have coverage 6.3 which is incompatible.\n",
            "datascience 0.10.6 requires folium==0.2.1, but you have folium 0.8.3 which is incompatible.\n",
            "coveralls 0.5 requires coverage<3.999,>=3.6, but you have coverage 6.3 which is incompatible.\u001b[0m\n",
            "Successfully installed coreapi-2.3.3 coreschema-0.0.4 coverage-6.3 itypes-1.2.0 nbimporter-0.3.4 pylatexenc-2.10 quantuminspire-1.7.0\n"
          ]
        }
      ]
    },
    {
      "cell_type": "code",
      "source": [
        "pip install qiskit_nature"
      ],
      "metadata": {
        "colab": {
          "base_uri": "https://localhost:8080/"
        },
        "id": "orOtRYznWDQ5",
        "outputId": "b8a6ed30-4930-4936-e026-790db55c0ae2"
      },
      "execution_count": null,
      "outputs": [
        {
          "output_type": "stream",
          "name": "stdout",
          "text": [
            "Collecting qiskit_nature\n",
            "  Downloading qiskit_nature-0.3.0-py3-none-any.whl (3.2 MB)\n",
            "\u001b[K     |████████████████████████████████| 3.2 MB 5.4 MB/s \n",
            "\u001b[?25hRequirement already satisfied: h5py in /usr/local/lib/python3.7/dist-packages (from qiskit_nature) (3.1.0)\n",
            "Requirement already satisfied: setuptools>=40.1.0 in /usr/local/lib/python3.7/dist-packages (from qiskit_nature) (57.4.0)\n",
            "Requirement already satisfied: retworkx>=0.10.1 in /usr/local/lib/python3.7/dist-packages (from qiskit_nature) (0.11.0)\n",
            "Requirement already satisfied: numpy>=1.17 in /usr/local/lib/python3.7/dist-packages (from qiskit_nature) (1.19.5)\n",
            "Requirement already satisfied: qiskit-terra>=0.19.0 in /usr/local/lib/python3.7/dist-packages (from qiskit_nature) (0.19.1)\n",
            "Requirement already satisfied: scikit-learn>=0.20.0 in /usr/local/lib/python3.7/dist-packages (from qiskit_nature) (1.0.2)\n",
            "Requirement already satisfied: scipy>=1.4 in /usr/local/lib/python3.7/dist-packages (from qiskit_nature) (1.7.3)\n",
            "Requirement already satisfied: psutil>=5 in /usr/local/lib/python3.7/dist-packages (from qiskit_nature) (5.4.8)\n",
            "Requirement already satisfied: tweedledum<2.0,>=1.1 in /usr/local/lib/python3.7/dist-packages (from qiskit-terra>=0.19.0->qiskit_nature) (1.1.1)\n",
            "Requirement already satisfied: symengine>=0.8 in /usr/local/lib/python3.7/dist-packages (from qiskit-terra>=0.19.0->qiskit_nature) (0.8.1)\n",
            "Requirement already satisfied: dill>=0.3 in /usr/local/lib/python3.7/dist-packages (from qiskit-terra>=0.19.0->qiskit_nature) (0.3.4)\n",
            "Requirement already satisfied: stevedore>=3.0.0 in /usr/local/lib/python3.7/dist-packages (from qiskit-terra>=0.19.0->qiskit_nature) (3.5.0)\n",
            "Requirement already satisfied: python-constraint>=1.4 in /usr/local/lib/python3.7/dist-packages (from qiskit-terra>=0.19.0->qiskit_nature) (1.4.0)\n",
            "Requirement already satisfied: sympy>=1.3 in /usr/local/lib/python3.7/dist-packages (from qiskit-terra>=0.19.0->qiskit_nature) (1.7.1)\n",
            "Requirement already satisfied: ply>=3.10 in /usr/local/lib/python3.7/dist-packages (from qiskit-terra>=0.19.0->qiskit_nature) (3.11)\n",
            "Requirement already satisfied: python-dateutil>=2.8.0 in /usr/local/lib/python3.7/dist-packages (from qiskit-terra>=0.19.0->qiskit_nature) (2.8.2)\n",
            "Requirement already satisfied: six>=1.5 in /usr/local/lib/python3.7/dist-packages (from python-dateutil>=2.8.0->qiskit-terra>=0.19.0->qiskit_nature) (1.15.0)\n",
            "Requirement already satisfied: threadpoolctl>=2.0.0 in /usr/local/lib/python3.7/dist-packages (from scikit-learn>=0.20.0->qiskit_nature) (3.0.0)\n",
            "Requirement already satisfied: joblib>=0.11 in /usr/local/lib/python3.7/dist-packages (from scikit-learn>=0.20.0->qiskit_nature) (1.1.0)\n",
            "Requirement already satisfied: pbr!=2.1.0,>=2.0.0 in /usr/local/lib/python3.7/dist-packages (from stevedore>=3.0.0->qiskit-terra>=0.19.0->qiskit_nature) (5.8.0)\n",
            "Requirement already satisfied: importlib-metadata>=1.7.0 in /usr/local/lib/python3.7/dist-packages (from stevedore>=3.0.0->qiskit-terra>=0.19.0->qiskit_nature) (4.10.1)\n",
            "Requirement already satisfied: zipp>=0.5 in /usr/local/lib/python3.7/dist-packages (from importlib-metadata>=1.7.0->stevedore>=3.0.0->qiskit-terra>=0.19.0->qiskit_nature) (3.7.0)\n",
            "Requirement already satisfied: typing-extensions>=3.6.4 in /usr/local/lib/python3.7/dist-packages (from importlib-metadata>=1.7.0->stevedore>=3.0.0->qiskit-terra>=0.19.0->qiskit_nature) (3.10.0.2)\n",
            "Requirement already satisfied: mpmath>=0.19 in /usr/local/lib/python3.7/dist-packages (from sympy>=1.3->qiskit-terra>=0.19.0->qiskit_nature) (1.2.1)\n",
            "Requirement already satisfied: cached-property in /usr/local/lib/python3.7/dist-packages (from h5py->qiskit_nature) (1.5.2)\n",
            "Installing collected packages: qiskit-nature\n",
            "Successfully installed qiskit-nature-0.3.0\n"
          ]
        }
      ]
    },
    {
      "cell_type": "code",
      "source": [
        "pip install PySCF"
      ],
      "metadata": {
        "colab": {
          "base_uri": "https://localhost:8080/"
        },
        "id": "52Ho3UdjWDCj",
        "outputId": "29ec4c93-0c78-443a-e443-acf2140085ca"
      },
      "execution_count": null,
      "outputs": [
        {
          "output_type": "stream",
          "name": "stdout",
          "text": [
            "Collecting PySCF\n",
            "  Downloading pyscf-2.0.1-cp37-cp37m-manylinux1_x86_64.whl (37.5 MB)\n",
            "\u001b[K     |████████████████████████████████| 37.5 MB 323 kB/s \n",
            "\u001b[?25hRequirement already satisfied: h5py>=2.7 in /usr/local/lib/python3.7/dist-packages (from PySCF) (3.1.0)\n",
            "Requirement already satisfied: scipy!=1.5.0,!=1.5.1 in /usr/local/lib/python3.7/dist-packages (from PySCF) (1.7.3)\n",
            "Requirement already satisfied: numpy!=1.16,!=1.17,>=1.13 in /usr/local/lib/python3.7/dist-packages (from PySCF) (1.19.5)\n",
            "Requirement already satisfied: cached-property in /usr/local/lib/python3.7/dist-packages (from h5py>=2.7->PySCF) (1.5.2)\n",
            "Installing collected packages: PySCF\n",
            "Successfully installed PySCF-2.0.1\n"
          ]
        }
      ]
    },
    {
      "cell_type": "code",
      "source": [
        "from getpass import getpass\n",
        "from quantuminspire.qiskit import QI\n",
        "from qiskit import Aer\n",
        "from qiskit_nature.drivers import PySCFDriver, UnitsType, Molecule\n",
        "from qiskit_nature.problems.second_quantization.electronic import ElectronicStructureProblem\n",
        "from qiskit_nature.mappers.second_quantization import JordanWignerMapper, BravyiKitaevMapper\n",
        "from qiskit_nature.converters.second_quantization import QubitConverter\n",
        "\n",
        "from qiskit_nature.transformers import ActiveSpaceTransformer\n",
        "from qiskit_nature.algorithms import GroundStateEigensolver, BOPESSampler\n",
        "from qiskit.algorithms import NumPyMinimumEigensolver\n",
        "\n",
        "from qiskit.utils import QuantumInstance\n",
        "\n",
        "from qiskit_nature.circuit.library.ansatzes import UCCSD\n",
        "from qiskit_nature.circuit.library.initial_states import HartreeFock\n",
        "from qiskit.circuit.library import TwoLocal\n",
        "\n",
        "from qiskit.algorithms import VQE\n",
        "from qiskit.algorithms.optimizers import COBYLA\n",
        "\n",
        "from functools import partial as apply_variation_to_atom_pair\n",
        "import numpy as np\n",
        "import matplotlib.pyplot as plt"
      ],
      "metadata": {
        "id": "xzHLwxBZUr2K"
      },
      "execution_count": null,
      "outputs": []
    },
    {
      "cell_type": "code",
      "source": [
        "variation = Molecule.absolute_stretching\n",
        "specific_variation = apply_variation_to_atom_pair(variation, atom_pair=(0, 7))\n",
        "toy_glutamine = Molecule(geometry=\n",
        "                        [['N', [-0.7154, 0, 0]],\n",
        "                         ['C', [0.7154, 0, 0,]],\n",
        "                         ['H', [1.1069, 0.0916, 1.0174]],\n",
        "                         ['H', [1.0996, 0.8349, -0.593]],\n",
        "                         ['H', [1.0996, -0.9274, -0.4345]],\n",
        "                         ['H', [-1.0625, 0.8564, 0.4294]],\n",
        "                         ['H', [-1.0625, -0.7661, 0.5753]],\n",
        "                         ['C', [-0.5000, 0, 0]]], # Carbon inhibitor\n",
        "                          charge=0, multiplicity=1)"
      ],
      "metadata": {
        "id": "QmL_3usVUzsE"
      },
      "execution_count": 46,
      "outputs": []
    },
    {
      "cell_type": "code",
      "source": [
        "glutamine_molecule = Molecule(geometry=\n",
        "                              [['O', [-2.1389, 1.637, 0.5099]],\n",
        "                               ['O', [-2.6773, 0.2475, -1.1973]],\n",
        "                               ['O', [2.9039, 0.2551, 1.0351]],\n",
        "                               ['N', [-1.4789,  -1.8922, -0.0291]],\n",
        "                               ['N', [3.2441, 0.1932, -1.2385]],\n",
        "                               ['C', [0.1338, -0.2355, 0.8758]],\n",
        "                               ['C', [-1.3424, -0.6086, 0.659]],\n",
        "                               ['C', [1.0032,  -0.1458, -0.3839]],\n",
        "                               ['C', [-2.1158, 0.4356, -0.1257]],\n",
        "                               ['C', [2.4683, 0.1136, -0.1257]],\n",
        "                               ['H', [0.1904, 0.7236, -0.1051]],\n",
        "                               ['H', [0.5783, -0.9764, 1.4071]],\n",
        "                               ['H', [-0.18319, -0.7041, 1.5545]],\n",
        "                               ['H', [0.95,-1.0821, -0.9509]],\n",
        "                               ['H', [0.6339, 0.6568,-1.0331]],\n",
        "                               ['H', [-1.136,-1.8186,-0.9858]],\n",
        "                               ['H', [-2.4648,-2.142,-0.0988]],\n",
        "                               ['H', [2.856,0.078,-2.1693]],\n",
        "                               ['H', [4.2414,0.3697,-1.1781]],\n",
        "                               ['H', [-2.645,2.3081,0.0041]],\n",
        "                               ['C', [-1.600, -1.6000, -0.0291]]], # Carbon inhibitor\n",
        "                              charge=0, multiplicity=1)"
      ],
      "metadata": {
        "id": "gaCy6X-LbdBa"
      },
      "execution_count": 24,
      "outputs": []
    },
    {
      "cell_type": "code",
      "source": [
        "def get_authentication():\n",
        "    \"\"\"Gets the authentication for connecting to the\n",
        "       Quantum Inspire API.\n",
        "    \"\"\"\n",
        "    print('Enter email:')\n",
        "    email = input()\n",
        "    print('Enter password')\n",
        "    password = getpass()\n",
        "    return email, password "
      ],
      "metadata": {
        "id": "XfVKAaTnZX01"
      },
      "execution_count": 18,
      "outputs": []
    },
    {
      "cell_type": "code",
      "source": [
        "if __name__ == '__main__':\n",
        "    if 'authentication' not in vars().keys():\n",
        "        authentication = get_authentication()\n",
        "    QI.set_authentication_details(*authentication)\n",
        "    backend = QI.get_backend('Starmon-5')"
      ],
      "metadata": {
        "id": "072rRAm3ZbXn"
      },
      "execution_count": 37,
      "outputs": []
    },
    {
      "cell_type": "code",
      "source": [
        "def construct_hamiltonian_solve_ground_state(\n",
        "    molecule,\n",
        "    num_electrons=2,\n",
        "    num_molecular_orbitals=2,\n",
        "    chemistry_inspired=True,\n",
        "    hardware_inspired_trial=None,\n",
        "    vqe=True,\n",
        "    perturbation_steps=np.linspace(-1, 1, 3),\n",
        "):\n",
        "    \"\"\"Creates fermionic Hamiltonion and solves for the energy surface.\n",
        "\n",
        "    Args:\n",
        "        molecule (Union[qiskit_nature.drivers.molecule.Molecule, NoneType]): The molecule to simulate.\n",
        "        num_electrons (int, optional): Number of electrons for the `ActiveSpaceTransformer`. Defaults to 2.\n",
        "        num_molecular_orbitals (int, optional): Number of electron orbitals for the `ActiveSpaceTransformer`. Defaults to 2.\n",
        "        chemistry_inspired (bool, optional): Whether to create a chemistry inspired trial state. `hardware_inspired_trial` must be `None` when used. Defaults to True.\n",
        "        hardware_inspired_trial (QuantumCircuit, optional): The hardware inspired trial state to use. `chemistry_inspired` must be False when used. Defaults to None.\n",
        "        vqe (bool, optional): Whether to use VQE to calculate the energy surface. Uses `NumPyMinimumEigensolver if False. Defaults to True.\n",
        "        perturbation_steps (Union(list,numpy.ndarray), optional): The points along the degrees of freedom to evaluate, in this case a distance in angstroms. Defaults to np.linspace(-1, 1, 3).\n",
        "\n",
        "    Raises:\n",
        "        RuntimeError: `chemistry_inspired` and `hardware_inspired_trial` cannot be used together. Either `chemistry_inspired` is False or `hardware_inspired_trial` is `None`.\n",
        "\n",
        "    Returns:\n",
        "        qiskit_nature.results.BOPESSamplerResult: The surface energy as a BOPESSamplerResult object.\n",
        "    \"\"\"\n",
        "    # Verify that `chemistry_inspired` and `hardware_inspired_trial` do not conflict\n",
        "    if chemistry_inspired and hardware_inspired_trial is not None:\n",
        "        raise RuntimeError(\n",
        "            (\n",
        "                \"chemistry_inspired and hardware_inspired_trial\"\n",
        "                \" cannot both be set. Either chemistry_inspired\"\n",
        "                \" must be False or hardware_inspired_trial must be none.\"\n",
        "            )\n",
        "        )\n",
        "        # Step 1 including refinement, passed in\n",
        "\n",
        "    # Step 2a\n",
        "    molecular_orbital_maker = PySCFDriver(\n",
        "        molecule=molecule, unit=UnitsType.ANGSTROM, basis=\"sto3g\"\n",
        "    )\n",
        "\n",
        "    # Refinement to Step 2a\n",
        "    split_into_classical_and_quantum = ActiveSpaceTransformer(\n",
        "        num_electrons=num_electrons, num_molecular_orbitals=num_molecular_orbitals\n",
        "    )\n",
        "\n",
        "    fermionic_hamiltonian = ElectronicStructureProblem(\n",
        "        molecular_orbital_maker, [split_into_classical_and_quantum]\n",
        "    )\n",
        "    fermionic_hamiltonian.second_q_ops()\n",
        "\n",
        "    # Step 2b\n",
        "    map_fermions_to_qubits = QubitConverter(JordanWignerMapper())\n",
        "\n",
        "    # Step 3a\n",
        "    if chemistry_inspired:\n",
        "        molecule_info = fermionic_hamiltonian.molecule_data_transformed\n",
        "        num_molecular_orbitals = molecule_info.num_molecular_orbitals\n",
        "        num_spin_orbitals = 2 * num_molecular_orbitals\n",
        "        num_electrons_spin_up_spin_down = (\n",
        "            molecule_info.num_alpha,\n",
        "            molecule_info.num_beta,\n",
        "        )\n",
        "        initial_state = HartreeFock(\n",
        "            num_spin_orbitals, num_electrons_spin_up_spin_down, map_fermions_to_qubits\n",
        "        )\n",
        "\n",
        "        chemistry_inspired_trial = UCCSD(\n",
        "            map_fermions_to_qubits,\n",
        "            num_electrons_spin_up_spin_down,\n",
        "            num_spin_orbitals,\n",
        "            initial_state=initial_state,\n",
        "        )\n",
        "\n",
        "        trial_state = chemistry_inspired_trial\n",
        "    else:\n",
        "      if hardware_inspired_trial:\n",
        "            hardware_inspired_trial = TwoLocal(\n",
        "                rotation_blocks=[\"ry\"],\n",
        "                entanglement_blocks=\"cz\",\n",
        "                entanglement=\"linear\",\n",
        "                reps=5,\n",
        "            )\n",
        "\n",
        "      trial_state = hardware_inspired_trial\n",
        "    \n",
        "    # Step 3b and alternative\n",
        "    if vqe:\n",
        "        noise_free_quantum_environment = QuantumInstance(Aer.get_backend('qasm_simulator'))\n",
        "        solver = VQE(ansatz=trial_state, quantum_instance=noise_free_quantum_environment)\n",
        "    else:\n",
        "        solver = NumPyMinimumEigensolver()\n",
        "\n",
        "    # Step 4 and alternative\n",
        "    ground_state = GroundStateEigensolver(map_fermions_to_qubits, solver)\n",
        "\n",
        "    # Refinement to Step 4\n",
        "    energy_surface = BOPESSampler(gss=ground_state, bootstrap=False)\n",
        "    energy_surface_result = energy_surface.sample(\n",
        "        fermionic_hamiltonian, perturbation_steps\n",
        "    )\n",
        "\n",
        "    return energy_surface_result"
      ],
      "metadata": {
        "id": "CcyeGXWnVCtg"
      },
      "execution_count": 40,
      "outputs": []
    },
    {
      "cell_type": "code",
      "source": [
        "energy_surface_result = construct_hamiltonian_solve_ground_state(toy_glutamine,\n",
        "    num_electrons=2,\n",
        "    num_molecular_orbitals=2,\n",
        "    chemistry_inspired=False,\n",
        "    hardware_inspired_trial=True,\n",
        "    vqe=True,\n",
        "    perturbation_steps=np.linspace(-1, 1, 4))"
      ],
      "metadata": {
        "id": "SE0bp5QqVOqb"
      },
      "execution_count": 47,
      "outputs": []
    },
    {
      "cell_type": "code",
      "source": [
        "def plot_energy_landscape(energy_surface_result):\n",
        "    if len(energy_surface_result.points) > 1:\n",
        "        plt.plot(energy_surface_result.points, energy_surface_result.energies, label=\"VQE Energy\")\n",
        "        plt.xlabel('Atomic distance Deviation(Angstrom)')\n",
        "        plt.ylabel('Energy (hartree)')\n",
        "        plt.legend()\n",
        "        plt.show()\n",
        "    else:\n",
        "        print(\"Total Energy is: \", energy_surface_result.energies[0], \"hartree\")\n",
        "        print(\"(No need to plot, only one configuration calculated.)\")\n",
        "    \n",
        "plot_energy_landscape(energy_surface_result)"
      ],
      "metadata": {
        "colab": {
          "base_uri": "https://localhost:8080/",
          "height": 279
        },
        "id": "mexEoZbGVeii",
        "outputId": "069711d2-b8d6-48a3-a724-300bc41a5fed"
      },
      "execution_count": 48,
      "outputs": [
        {
          "output_type": "display_data",
          "data": {
            "image/png": "[encoded data removed]",
            "text/plain": [
              "<Figure size 432x288 with 1 Axes>"
            ]
          },
          "metadata": {
            "needs_background": "light"
          }
        }
      ]
    },
    {
      "cell_type": "code",
      "source": [
        ""
      ],
      "metadata": {
        "id": "0Bwl2V2qXCo1"
      },
      "execution_count": null,
      "outputs": []
    }
  ]
}